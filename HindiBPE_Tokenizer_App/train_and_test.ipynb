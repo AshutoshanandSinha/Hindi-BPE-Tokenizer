{
 "cells": [
  {
   "cell_type": "code",
   "execution_count": 1,
   "id": "dced2791-f0e3-4870-aa50-c838c1445c4a",
   "metadata": {},
   "outputs": [
    {
     "name": "stdout",
     "output_type": "stream",
     "text": [
      "C:\\Users\\mindf\\Documents\\ERA3\\hindiBPE\\HindiBPE_Tokenizer_App\n"
     ]
    }
   ],
   "source": [
    "import os\n",
    "print(os.getcwd())\n"
   ]
  },
  {
   "cell_type": "code",
   "execution_count": 2,
   "id": "9e4e220c-efef-4b01-b312-2a6fb6bb83a2",
   "metadata": {},
   "outputs": [
    {
     "name": "stderr",
     "output_type": "stream",
     "text": [
      "C:\\Users\\mindf\\Documents\\ERA3\\hindiBPE\\venv\\lib\\site-packages\\tqdm\\auto.py:21: TqdmWarning: IProgress not found. Please update jupyter and ipywidgets. See https://ipywidgets.readthedocs.io/en/stable/user_install.html\n",
      "  from .autonotebook import tqdm as notebook_tqdm\n"
     ]
    },
    {
     "name": "stdout",
     "output_type": "stream",
     "text": [
      "Training on data/hin_mixed_2019_1M/hin_mixed_2019_1M-sentences.txt\n"
     ]
    },
    {
     "name": "stderr",
     "output_type": "stream",
     "text": [
      "Processing words:   3%|███▍                                                                                                   | 51030/1547444 [00:00<00:16, 90630.80it/s]\n",
      "Training BPE: 0it [00:00, ?it/s]\n"
     ]
    },
    {
     "name": "stdout",
     "output_type": "stream",
     "text": [
      "\n",
      "Analyzing results...\n"
     ]
    },
    {
     "name": "stderr",
     "output_type": "stream",
     "text": [
      "Analyzing tokens: 1000000it [00:31, 32131.61it/s]\n"
     ]
    },
    {
     "name": "stdout",
     "output_type": "stream",
     "text": [
      "\n",
      "Detailed Statistics:\n",
      "----------------------------------------\n",
      "Average tokens per line: 23.99\n",
      "Average word length: 4.17\n",
      "\n",
      "Top 20 most frequent tokens:\n",
      "  282: 710,198\n",
      "  256: 578,868\n",
      "  280: 529,719\n",
      "  277: 432,332\n",
      "  292: 329,154\n",
      "  279: 315,172\n",
      "  261: 262,347\n",
      "  268: 253,488\n",
      "  287: 232,545\n",
      "  2860: 226,640\n",
      "  299: 205,114\n",
      "  263: 181,159\n",
      "  296: 165,562\n",
      "  284: 152,926\n",
      "  44: 133,292\n",
      "  298: 121,082\n",
      "  275: 117,695\n",
      "  2861: 111,247\n",
      "  2862: 107,999\n",
      "  285: 106,801\n",
      "\n",
      "Final Results:\n",
      "----------------------------------------\n",
      "Vocabulary size: 20,245\n",
      "Compression ratio: 4.03\n",
      "Total tokens processed: 23,994,528\n",
      "Unique tokens: 17,917\n",
      "\n",
      "Testing common Hindi phrases...\n",
      "--------------------------------------------------\n",
      "\n",
      "Original: मैं आपसे मिलकर खुश हूं\n",
      "Decoded:  मैं आपसे मिलकर खुश हूं\n",
      "Tokens (5): [2895, 5361, 3783, 3981, 3380]\n",
      "Accuracy: 100.00%\n",
      "\n",
      "Original: आपका दिन शुभ हो\n",
      "Decoded:  आपका दिन शुभ हो\n",
      "Tokens (4): [3482, 306, 4787, 266]\n",
      "Accuracy: 100.00%\n",
      "\n",
      "Original: कृपया मेरी मदद करें\n",
      "Decoded:  कृपया मेरी मदद करें\n",
      "Tokens (4): [6323, 3161, 3151, 3186]\n",
      "Accuracy: 100.00%\n",
      "\n",
      "Original: धन्यवाद आपका\n",
      "Decoded:  धन्यवाद आपका\n",
      "Tokens (2): [5377, 3482]\n",
      "Accuracy: 100.00%\n",
      "\n",
      "Original: मुझे समझ में नहीं आया\n",
      "Decoded:  मुझे समझ में नहीं आया\n",
      "Tokens (5): [2964, 3339, 280, 2861, 3163]\n",
      "Accuracy: 100.00%\n",
      "\n",
      "Original: यह बहुत अच्छा है\n",
      "Decoded:  यह बहुत अच्छा है\n",
      "Tokens (4): [269, 2896, 3175, 296]\n",
      "Accuracy: 100.00%\n",
      "\n",
      "Original: आप कैसे हैं\n",
      "Decoded:  आप कैसे हैं\n",
      "Tokens (3): [2882, 3101, 288]\n",
      "Accuracy: 100.00%\n",
      "\n",
      "Original: मैं ठीक हूं\n",
      "Decoded:  मैं ठीक हूं\n",
      "Tokens (3): [2895, 3227, 3380]\n",
      "Accuracy: 100.00%\n",
      "\n",
      "Original: फिर मिलेंगे\n",
      "Decoded:  फिर मिलेंगे\n",
      "Tokens (2): [2908, 9750]\n",
      "Accuracy: 100.00%\n",
      "\n",
      "Average Results:\n",
      "Accuracy: 100.00%\n",
      "Tokens per phrase: 3.56\n"
     ]
    }
   ],
   "source": [
    "import sys\n",
    "import os\n",
    "\n",
    "# Add the parent directory to the Python path\n",
    "sys.path.append(os.path.abspath('.'))\n",
    "\n",
    "from src.hindi_bpe_scratch import HindiBPE\n",
    "from src.train_hindi_bpe_scratch import main\n",
    "\n",
    "main()"
   ]
  },
  {
   "cell_type": "code",
   "execution_count": null,
   "id": "33e1c20c-3fa0-4f9b-a60d-cb2c965fa5c0",
   "metadata": {},
   "outputs": [],
   "source": []
  }
 ],
 "metadata": {
  "kernelspec": {
   "display_name": "Python 3 (ipykernel)",
   "language": "python",
   "name": "python3"
  },
  "language_info": {
   "codemirror_mode": {
    "name": "ipython",
    "version": 3
   },
   "file_extension": ".py",
   "mimetype": "text/x-python",
   "name": "python",
   "nbconvert_exporter": "python",
   "pygments_lexer": "ipython3",
   "version": "3.9.13"
  }
 },
 "nbformat": 4,
 "nbformat_minor": 5
}
